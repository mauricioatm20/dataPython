{
 "cells": [
  {
   "cell_type": "code",
   "execution_count": 3,
   "id": "initial_id",
   "metadata": {
    "collapsed": true,
    "ExecuteTime": {
     "end_time": "2024-03-19T12:12:43.056130Z",
     "start_time": "2024-03-19T12:12:43.051596Z"
    }
   },
   "outputs": [],
   "source": [
    "import pandas as pd\n",
    "\n",
    "# Cargar un archivo CSV en un DataFrame\n",
    "df = pd.read_csv('trabajador.csv')"
   ]
  },
  {
   "cell_type": "code",
   "outputs": [
    {
     "name": "stdout",
     "output_type": "stream",
     "text": [
      "<class 'pandas.core.frame.DataFrame'>\n",
      "RangeIndex: 18 entries, 0 to 17\n",
      "Data columns (total 7 columns):\n",
      " #   Column      Non-Null Count  Dtype  \n",
      "---  ------      --------------  -----  \n",
      " 0   trabajador  16 non-null     object \n",
      " 1   hmin        16 non-null     float64\n",
      " 2   hmax        16 non-null     float64\n",
      " 3   dia         18 non-null     int64  \n",
      " 4   tramo       18 non-null     int64  \n",
      " 5   ntienda     18 non-null     int64  \n",
      " 6   nalmacen    18 non-null     int64  \n",
      "dtypes: float64(2), int64(4), object(1)\n",
      "memory usage: 1.1+ KB\n",
      "None\n"
     ]
    }
   ],
   "source": [
    "# Mostrar la información del DataFrame\n",
    "print(df.info())"
   ],
   "metadata": {
    "collapsed": false,
    "ExecuteTime": {
     "end_time": "2024-03-19T12:13:20.191463Z",
     "start_time": "2024-03-19T12:13:20.184905Z"
    }
   },
   "id": "f7eed72ebaf983eb",
   "execution_count": 4
  },
  {
   "cell_type": "code",
   "outputs": [
    {
     "name": "stdout",
     "output_type": "stream",
     "text": [
      "   trabajador  hmin   hmax  dia  tramo  ntienda  nalmacen\n",
      "0       Paula   0.0  100.0    1      1        5         3\n",
      "1       Nerea   0.0  100.0    1      2        7         1\n",
      "2        Luis   0.0  100.0    1      3        3         2\n",
      "3     Yolanda   0.0  100.0    1      4        8         3\n",
      "4       Óscar   0.0  100.0    1      5        8         4\n",
      "5    Bernardo   0.0  100.0    1      6        6         2\n",
      "6       Lidia   0.0  100.0    2      1        4         6\n",
      "7       Elena   0.0  100.0    2      2        7         3\n",
      "8      Daniel   0.0  100.0    2      3        2         2\n",
      "9       Ángel   0.0  100.0    2      4        7         4\n",
      "10      Lucía   0.0  100.0    2      5        3         1\n",
      "11      Marta   0.0  100.0    2      6        1         5\n",
      "12      Jaime   0.0  100.0    3      1        4         3\n",
      "13     Juanan   0.0  100.0    3      2        6         1\n",
      "14     Noelia   0.0  100.0    3      3        8         4\n",
      "15      Paola   0.0  100.0    3      4        8         4\n",
      "16        NaN   NaN    NaN    3      5        4         4\n",
      "17        NaN   NaN    NaN    3      6        3         5\n"
     ]
    }
   ],
   "source": [
    "# Obtener una lista de todos los nombres de columnas\n",
    "# Mostrar todas las columnas del DataFrame\n",
    "print(df[df.columns.tolist()])"
   ],
   "metadata": {
    "collapsed": false,
    "ExecuteTime": {
     "end_time": "2024-03-19T12:34:12.744042Z",
     "start_time": "2024-03-19T12:34:12.738264Z"
    }
   },
   "id": "53f45d1117d93770",
   "execution_count": 26
  },
  {
   "cell_type": "code",
   "outputs": [
    {
     "name": "stdout",
     "output_type": "stream",
     "text": [
      "0        Paula\n",
      "1        Nerea\n",
      "2         Luis\n",
      "3      Yolanda\n",
      "4        Óscar\n",
      "5     Bernardo\n",
      "6        Lidia\n",
      "7        Elena\n",
      "8       Daniel\n",
      "9        Ángel\n",
      "10       Lucía\n",
      "11       Marta\n",
      "12       Jaime\n",
      "13      Juanan\n",
      "14      Noelia\n",
      "15       Paola\n",
      "16         NaN\n",
      "17         NaN\n",
      "Name: trabajador, dtype: object\n"
     ]
    }
   ],
   "source": [
    "# Seleccionar una columna\n",
    "print(df['trabajador'])"
   ],
   "metadata": {
    "collapsed": false,
    "ExecuteTime": {
     "end_time": "2024-03-19T12:15:48.394463Z",
     "start_time": "2024-03-19T12:15:48.390145Z"
    }
   },
   "id": "8c43b45687118f0e",
   "execution_count": 6
  },
  {
   "cell_type": "code",
   "outputs": [
    {
     "name": "stdout",
     "output_type": "stream",
     "text": [
      "\n",
      "Número total de elementos en la columna 'trabajador': 16\n"
     ]
    }
   ],
   "source": [
    "conteo_total = df['trabajador'].count()\n",
    "print(\"\\nNúmero total de elementos en la columna 'trabajador':\", conteo_total)"
   ],
   "metadata": {
    "collapsed": false,
    "ExecuteTime": {
     "end_time": "2024-03-19T12:18:05.152377Z",
     "start_time": "2024-03-19T12:18:05.148592Z"
    }
   },
   "id": "c6d0ac5142cea61b",
   "execution_count": 8
  },
  {
   "cell_type": "code",
   "outputs": [
    {
     "name": "stdout",
     "output_type": "stream",
     "text": [
      "   trabajador  hmin   hmax  dia  tramo  ntienda  nalmacen\n",
      "0       Paula   0.0  100.0    1      1        5         3\n",
      "1       Nerea   0.0  100.0    1      2        7         1\n",
      "2        Luis   0.0  100.0    1      3        3         2\n",
      "3     Yolanda   0.0  100.0    1      4        8         3\n",
      "4       Óscar   0.0  100.0    1      5        8         4\n",
      "5    Bernardo   0.0  100.0    1      6        6         2\n",
      "6       Lidia   0.0  100.0    2      1        4         6\n",
      "7       Elena   0.0  100.0    2      2        7         3\n",
      "8      Daniel   0.0  100.0    2      3        2         2\n",
      "9       Ángel   0.0  100.0    2      4        7         4\n",
      "10      Lucía   0.0  100.0    2      5        3         1\n",
      "11      Marta   0.0  100.0    2      6        1         5\n"
     ]
    }
   ],
   "source": [
    "#quien a trabajado menos o igual a 2 dias \n",
    "# Filtrar filas basadas en una condición\n",
    "print(df[df['dia'] <= 2])"
   ],
   "metadata": {
    "collapsed": false,
    "ExecuteTime": {
     "end_time": "2024-03-19T12:24:56.851013Z",
     "start_time": "2024-03-19T12:24:56.845854Z"
    }
   },
   "id": "c9eb40d7f5caf63a",
   "execution_count": 16
  },
  {
   "cell_type": "code",
   "outputs": [
    {
     "name": "stdout",
     "output_type": "stream",
     "text": [
      "  trabajador  hmin   hmax  dia  tramo  ntienda  nalmacen\n",
      "3    Yolanda   0.0  100.0    1      4        8         3\n",
      "4      Óscar   0.0  100.0    1      5        8         4\n"
     ]
    }
   ],
   "source": [
    "#quien ha trabajado menos o igaul a 2 dias en la tienda 5\n",
    "# Filtrar filas basadas en múltiples condiciones\n",
    "print(df[(df['dia'] <= 2) & (df['ntienda'] == 8)])"
   ],
   "metadata": {
    "collapsed": false,
    "ExecuteTime": {
     "end_time": "2024-03-19T12:25:32.586152Z",
     "start_time": "2024-03-19T12:25:32.581393Z"
    }
   },
   "id": "ff5124cfe55bad01",
   "execution_count": 19
  },
  {
   "cell_type": "code",
   "outputs": [],
   "source": [],
   "metadata": {
    "collapsed": false,
    "ExecuteTime": {
     "end_time": "2024-03-19T12:25:10.659278Z",
     "start_time": "2024-03-19T12:25:10.657206Z"
    }
   },
   "id": "9755b9b9bfcc4c35",
   "execution_count": 17
  },
  {
   "cell_type": "code",
   "outputs": [],
   "source": [],
   "metadata": {
    "collapsed": false
   },
   "id": "39a24a433a83acce"
  }
 ],
 "metadata": {
  "kernelspec": {
   "display_name": "Python 3",
   "language": "python",
   "name": "python3"
  },
  "language_info": {
   "codemirror_mode": {
    "name": "ipython",
    "version": 2
   },
   "file_extension": ".py",
   "mimetype": "text/x-python",
   "name": "python",
   "nbconvert_exporter": "python",
   "pygments_lexer": "ipython2",
   "version": "2.7.6"
  }
 },
 "nbformat": 4,
 "nbformat_minor": 5
}
