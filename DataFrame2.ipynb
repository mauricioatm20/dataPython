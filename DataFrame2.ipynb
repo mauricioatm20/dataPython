{
 "cells": [
  {
   "cell_type": "code",
   "execution_count": null,
   "id": "initial_id",
   "metadata": {
    "collapsed": true,
    "jupyter": {
     "outputs_hidden": true
    }
   },
   "outputs": [],
   "source": []
  },
  {
   "cell_type": "code",
   "execution_count": 1,
   "id": "e3e54a7ab690bed0",
   "metadata": {
    "ExecuteTime": {
     "end_time": "2024-03-19T11:44:44.826037Z",
     "start_time": "2024-03-19T11:44:44.558923Z"
    },
    "collapsed": false
   },
   "outputs": [
    {
     "name": "stdout",
     "output_type": "stream",
     "text": [
      "          A         B         C         D\n",
      "0  0.074056 -0.461978  1.121603 -0.414437\n",
      "1  0.880654  0.569136  0.728468  0.141965\n",
      "2 -0.452419  0.533030 -0.879167  0.060499\n",
      "3 -0.092779 -0.444506 -0.306802  1.153402\n",
      "4 -0.210982 -0.052581 -0.226971  0.227619\n",
      "5 -0.427880  1.424413  2.575534 -0.825567\n"
     ]
    }
   ],
   "source": [
    "import pandas as pd\n",
    "import numpy as np\n",
    "\n",
    "df1 = pd.DataFrame(np.random.randn(6,4),  columns=['A', 'B', 'C', 'D'])\n",
    "print(df1)"
   ]
  },
  {
   "cell_type": "code",
   "execution_count": null,
   "id": "c66aeada1d46ad27",
   "metadata": {
    "collapsed": false
   },
   "outputs": [],
   "source": []
  }
 ],
 "metadata": {
  "kernelspec": {
   "display_name": "Python 3 (ipykernel)",
   "language": "python",
   "name": "python3"
  },
  "language_info": {
   "codemirror_mode": {
    "name": "ipython",
    "version": 3
   },
   "file_extension": ".py",
   "mimetype": "text/x-python",
   "name": "python",
   "nbconvert_exporter": "python",
   "pygments_lexer": "ipython3",
   "version": "3.12.2"
  }
 },
 "nbformat": 4,
 "nbformat_minor": 5
}
